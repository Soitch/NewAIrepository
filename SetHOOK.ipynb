{
  "nbformat": 4,
  "nbformat_minor": 0,
  "metadata": {
    "colab": {
      "name": "SetHOOK.ipynb",
      "provenance": [],
      "collapsed_sections": [],
      "authorship_tag": "ABX9TyMjrDMoHoEpVLqpzjFJ7WRM",
      "include_colab_link": true
    },
    "kernelspec": {
      "name": "python3",
      "display_name": "Python 3"
    },
    "language_info": {
      "name": "python"
    }
  },
  "cells": [
    {
      "cell_type": "markdown",
      "metadata": {
        "id": "view-in-github",
        "colab_type": "text"
      },
      "source": [
        "<a href=\"https://colab.research.google.com/github/Soitch/NewAIrepository/blob/main/SetHOOK.ipynb\" target=\"_parent\"><img src=\"https://colab.research.google.com/assets/colab-badge.svg\" alt=\"Open In Colab\"/></a>"
      ]
    },
    {
      "cell_type": "code",
      "metadata": {
        "id": "7XHSNmpVwI_g"
      },
      "source": [
        "!pip install pyTelegramBotAPI"
      ],
      "execution_count": null,
      "outputs": []
    },
    {
      "cell_type": "code",
      "source": [
        "def tray(x, a=list()):\n",
        "  if x:\n",
        "    print (str(len(a)+1)*x)\n",
        "    a.append(x)\n",
        "    #print(\"список - \", *a)\n",
        "    tray(x-1)\n",
        "  else:\n",
        "    return a.clear()"
      ],
      "metadata": {
        "id": "IjGMruhNq-yU"
      },
      "execution_count": null,
      "outputs": []
    },
    {
      "cell_type": "code",
      "source": [
        "tray(5)"
      ],
      "metadata": {
        "colab": {
          "base_uri": "https://localhost:8080/"
        },
        "id": "Nyv7ce31r_Go",
        "outputId": "5f449343-b0bc-4ca9-f978-e9760dd50c9a"
      },
      "execution_count": null,
      "outputs": [
        {
          "output_type": "stream",
          "name": "stdout",
          "text": [
            "11111\n",
            "2222\n",
            "333\n",
            "44\n",
            "5\n"
          ]
        }
      ]
    },
    {
      "cell_type": "code",
      "source": [
        "def trast(x):\n",
        "    def deltatrast(a, s):\n",
        "      if a:\n",
        "        print(*s)\n",
        "        deltatrast(a-1, s)\n",
        "      else:\n",
        "        return \n",
        "    deltatrast(x,[i for i in range(1, x+1)])"
      ],
      "metadata": {
        "id": "GWt0VXToNcWo"
      },
      "execution_count": null,
      "outputs": []
    },
    {
      "cell_type": "code",
      "source": [
        "trast(5)"
      ],
      "metadata": {
        "colab": {
          "base_uri": "https://localhost:8080/"
        },
        "id": "5B3QtB5QN4la",
        "outputId": "858d36ed-5997-467f-c27e-ebe937862d8d"
      },
      "execution_count": null,
      "outputs": [
        {
          "output_type": "stream",
          "name": "stdout",
          "text": [
            "1 2 3 4 5\n",
            "1 2 3 4 5\n",
            "1 2 3 4 5\n",
            "1 2 3 4 5\n",
            "1 2 3 4 5\n"
          ]
        }
      ]
    },
    {
      "cell_type": "code",
      "source": [
        "def sum_recursive(nums):\n",
        "    if len(nums) == 0:\n",
        "        return 0\n",
        "    last_num = nums.pop()\n",
        "    return last_num + sum_recursive(nums)"
      ],
      "metadata": {
        "id": "Vft9RNVQgKSb"
      },
      "execution_count": null,
      "outputs": []
    },
    {
      "cell_type": "code",
      "source": [
        "print(sum_recursive([10, 5, 2]))"
      ],
      "metadata": {
        "colab": {
          "base_uri": "https://localhost:8080/"
        },
        "id": "1OD7AVOWgMb5",
        "outputId": "89d3089e-a9fb-4fc8-83b2-2f210148bb9e"
      },
      "execution_count": null,
      "outputs": [
        {
          "output_type": "stream",
          "name": "stdout",
          "text": [
            "17\n"
          ]
        }
      ]
    },
    {
      "cell_type": "code",
      "metadata": {
        "colab": {
          "base_uri": "https://localhost:8080/"
        },
        "id": "B9WlmQCRz6Rj",
        "outputId": "b3ca3f54-4a4a-4e52-fd54-132b04ec37c4"
      },
      "source": [
        "import sys\n",
        " \n",
        "j = sys.stdin.readline().strip()\n",
        "s = sys.stdin.readline().strip()\n",
        " \n",
        "result = 0\n",
        "for ch in s:\n",
        "    if ch in j:\n",
        "        result += 1\n",
        " \n",
        "print(result)"
      ],
      "execution_count": null,
      "outputs": [
        {
          "output_type": "stream",
          "name": "stdout",
          "text": [
            "0\n"
          ]
        }
      ]
    },
    {
      "cell_type": "code",
      "metadata": {
        "colab": {
          "base_uri": "https://localhost:8080/"
        },
        "id": "Yt-iyrWq0PIa",
        "outputId": "7ea28995-57b2-49af-fc86-03159fcbe300"
      },
      "source": [
        "import sys\n",
        " \n",
        "j = input().strip()\n",
        "s = input().strip()\n",
        " \n",
        "result = 0\n",
        "for ch in s:\n",
        "    if ch in j:\n",
        "        result += 1\n",
        " \n",
        "print(result)"
      ],
      "execution_count": null,
      "outputs": [
        {
          "output_type": "stream",
          "name": "stdout",
          "text": [
            "1 2\n",
            "3 4 4\n",
            "2\n"
          ]
        }
      ]
    },
    {
      "cell_type": "code",
      "metadata": {
        "id": "RMYn1ctx2Bek"
      },
      "source": [
        "j = int(input())\n",
        "dr = list()\n",
        "prim = list()\n",
        "for i in range(j):\n",
        "  dr.append(int(input()))\n",
        "s = 500\n",
        "prim.append(s)\n",
        "for j in range(1, len(dr)):\n",
        "  if dr[j] > dr[j-1]:\n",
        "    s += 500\n",
        "  else:\n",
        "    if dr[j] < dr[j-1] and s > 500:\n",
        "      s -= 500\n",
        "  prim.append(s)\n",
        "print(sum(prim))\n",
        "  \n"
      ],
      "execution_count": null,
      "outputs": []
    },
    {
      "cell_type": "code",
      "metadata": {
        "colab": {
          "base_uri": "https://localhost:8080/"
        },
        "id": "KWmA7_5ovpMD",
        "outputId": "20d1f021-7c1f-4e63-e362-3c06a2a78feb"
      },
      "source": [
        "import telebot\n",
        "\n",
        "bot = telebot.TeleBot(\"1853965399:AAGUujqTdDa8LDLndzFC4Cj5Rqyc5hQEAdo\")\n",
        "\n",
        "bot.remove_webhook()\n",
        "bot.set_webhook(\"https://functions.yandexcloud.net/d4eqj70pd9u2kspm7h2b\")"
      ],
      "execution_count": null,
      "outputs": [
        {
          "output_type": "execute_result",
          "data": {
            "text/plain": [
              "True"
            ]
          },
          "metadata": {
            "tags": []
          },
          "execution_count": 6
        }
      ]
    },
    {
      "cell_type": "code",
      "metadata": {
        "id": "FblVvsl6TEMn"
      },
      "source": [
        "def readAndTotal():\n",
        "    line = input(\"Введите число (пропустите ввод для завершения): \")\n",
        "    # Базовый случай: пользователь пропустил ввод, возвращаем 0\n",
        "    print(line)\n",
        "    if line == \"\":\n",
        "      return 0\n",
        "    else:\n",
        "      print(line)\n",
        "      return float(line) + readAndTotal()\n",
        "\n",
        "print(readAndTotal())"
      ],
      "execution_count": null,
      "outputs": []
    },
    {
      "cell_type": "code",
      "metadata": {
        "id": "fAoxNJv3c0gK",
        "colab": {
          "base_uri": "https://localhost:8080/"
        },
        "outputId": "776d7419-8c51-4a78-f9fa-c93085b7f363"
      },
      "source": [
        "def privet(x):  # прямой ход рекурсии. Печатаем нужное количество раз\n",
        "  if x:\n",
        "    print('hello world')\n",
        "    privet(x-1)\n",
        "  else:\n",
        "    return\n",
        "\n",
        "privet(8)"
      ],
      "execution_count": null,
      "outputs": [
        {
          "output_type": "stream",
          "name": "stdout",
          "text": [
            "hello world\n",
            "hello world\n",
            "hello world\n",
            "hello world\n",
            "hello world\n",
            "hello world\n",
            "hello world\n",
            "hello world\n"
          ]
        }
      ]
    },
    {
      "cell_type": "code",
      "source": [
        "def tringle(x):\n",
        "    y = x\n",
        "    if (x):\n",
        "        tringle(x- 1)\n",
        "        print(str(x) *x)\n",
        "    else:\n",
        "        return"
      ],
      "metadata": {
        "id": "hBRH4_fkWD0R"
      },
      "execution_count": null,
      "outputs": []
    },
    {
      "cell_type": "code",
      "source": [
        "tringle(5)"
      ],
      "metadata": {
        "id": "huE49mJGYMUR"
      },
      "execution_count": null,
      "outputs": []
    },
    {
      "cell_type": "code",
      "metadata": {
        "id": "qUn9XTM9d39P"
      },
      "source": [
        "def wordrec(x):  # прямой ход рекурсии переворачиваем слово\n",
        "  y=list(x)\n",
        "  if len(y):\n",
        "    print(y.pop(-1))\n",
        "    wordrec(y)\n",
        "  else:\n",
        "    return\n",
        "\n",
        "wordrec(\"hello\")"
      ],
      "execution_count": null,
      "outputs": []
    },
    {
      "cell_type": "code",
      "metadata": {
        "colab": {
          "base_uri": "https://localhost:8080/"
        },
        "id": "uPMJ-k4Siiui",
        "outputId": "94a2e9fe-3fe4-49aa-d557-d7954a20afe9"
      },
      "source": [
        "def sumf(x): # факториал\n",
        "  if x:\n",
        "    return x *  sumf(x-1)\n",
        "  else:\n",
        "    return 1\n",
        "\n",
        "sumf(13)"
      ],
      "execution_count": null,
      "outputs": [
        {
          "output_type": "execute_result",
          "data": {
            "text/plain": [
              "6227020800"
            ]
          },
          "metadata": {},
          "execution_count": 40
        }
      ]
    },
    {
      "cell_type": "code",
      "metadata": {
        "id": "mj2K2tcxwwGd"
      },
      "source": [
        "def xanoy_tower(count, frome, to):\n",
        "  if count == 1:\n",
        "    print(f'переложить диск 1 с {frome} на {to}')\n",
        "  else:\n",
        "    tmp = 6 - frome - to\n",
        "    xanoy_tower((count-1), frome, tmp)\n",
        "    print(f'переложить диск {count} с {frome} на {to}')\n",
        "    xanoy_tower((count-1), tmp, to)\n",
        "\n",
        "\n",
        "xanoy_tower(6, 1, 2)"
      ],
      "execution_count": null,
      "outputs": []
    },
    {
      "cell_type": "code",
      "source": [
        "!pip install yfinance"
      ],
      "metadata": {
        "id": "04VI3QLNBQRe"
      },
      "execution_count": null,
      "outputs": []
    },
    {
      "cell_type": "code",
      "source": [
        "import yfinance as yf\n",
        "import pandas as pd\n",
        "import pandas_datareader.data as web\n",
        "import plotly.graph_objects as go\n",
        "from datetime import datetime\n",
        "\n",
        "pfe = yf.Ticker('SBER.ME')\n",
        "#pfe.info"
      ],
      "metadata": {
        "id": "O8tzLPE8BegS"
      },
      "execution_count": null,
      "outputs": []
    },
    {
      "cell_type": "code",
      "source": [
        "pfe.actions"
      ],
      "metadata": {
        "id": "-AAdY5K8Ben7"
      },
      "execution_count": null,
      "outputs": []
    },
    {
      "cell_type": "code",
      "source": [
        "hist = pfe.history(period='1y', interval='1h')\n"
      ],
      "metadata": {
        "id": "fEMEilVuBevI"
      },
      "execution_count": null,
      "outputs": []
    },
    {
      "cell_type": "code",
      "source": [
        "type(hist)\n",
        "hist.info()\n"
      ],
      "metadata": {
        "id": "S61h2sohFPP6"
      },
      "execution_count": null,
      "outputs": []
    },
    {
      "cell_type": "code",
      "source": [
        "hist.to_csv('h.csv')"
      ],
      "metadata": {
        "id": "ix8LXeu-kwOZ"
      },
      "execution_count": null,
      "outputs": []
    },
    {
      "cell_type": "code",
      "source": [
        "hist.head()\n"
      ],
      "metadata": {
        "id": "9AxyB7iDlp36"
      },
      "execution_count": null,
      "outputs": []
    },
    {
      "cell_type": "code",
      "source": [
        "\n",
        "new_data = pd.read_csv('h.csv' )\n",
        "new_data.rename(columns = {'Unnamed: 0' : 'Datetime'}, inplace = True)"
      ],
      "metadata": {
        "id": "klWzEpYXpsXA"
      },
      "execution_count": null,
      "outputs": []
    },
    {
      "cell_type": "code",
      "source": [
        "new_data"
      ],
      "metadata": {
        "colab": {
          "base_uri": "https://localhost:8080/",
          "height": 424
        },
        "id": "913qbtrBOgte",
        "outputId": "be1b3984-6ea5-4de8-b5d7-a7d4edd90a59"
      },
      "execution_count": null,
      "outputs": [
        {
          "output_type": "execute_result",
          "data": {
            "text/plain": [
              "                Datetime        Open        High         Low       Close  \\\n",
              "0    2021-03-29 17:30:00  292.339996  293.239990  292.010010  292.429993   \n",
              "1    2021-03-29 18:30:00  292.429993  293.000000  292.410004  293.000000   \n",
              "2    2021-03-30 09:30:00  294.859985  295.720001  292.799988  295.299988   \n",
              "3    2021-03-30 10:30:00  295.260010  295.600006  292.559998  293.329987   \n",
              "4    2021-03-30 11:30:00  293.239990  293.920013  292.649994  293.059998   \n",
              "...                  ...         ...         ...         ...         ...   \n",
              "2318 2022-03-29 10:30:00  130.300003  134.500000  129.039993  132.649994   \n",
              "2319 2022-03-29 11:30:00  132.610001  137.500000  132.529999  133.039993   \n",
              "2320 2022-03-29 12:30:00  133.029999  133.089996  125.820000  127.260002   \n",
              "2321 2022-03-29 13:30:00  127.139999  130.100006  127.129997  128.770004   \n",
              "2322 2022-03-29 13:49:59  128.770004  128.770004  128.770004  128.770004   \n",
              "\n",
              "        Volume  Dividends  Stock Splits  \n",
              "0     39001790        0.0             0  \n",
              "1      1604190        0.0             0  \n",
              "2     17259820        0.0             0  \n",
              "3     15307000        0.0             0  \n",
              "4      6650520        0.0             0  \n",
              "...        ...        ...           ...  \n",
              "2318  22406780        0.0             0  \n",
              "2319  17603310        0.0             0  \n",
              "2320  16457440        0.0             0  \n",
              "2321   1790330        0.0             0  \n",
              "2322         0        0.0             0  \n",
              "\n",
              "[2323 rows x 8 columns]"
            ],
            "text/html": [
              "\n",
              "  <div id=\"df-143ff736-b1a9-4f54-9c16-4dbadcfa640e\">\n",
              "    <div class=\"colab-df-container\">\n",
              "      <div>\n",
              "<style scoped>\n",
              "    .dataframe tbody tr th:only-of-type {\n",
              "        vertical-align: middle;\n",
              "    }\n",
              "\n",
              "    .dataframe tbody tr th {\n",
              "        vertical-align: top;\n",
              "    }\n",
              "\n",
              "    .dataframe thead th {\n",
              "        text-align: right;\n",
              "    }\n",
              "</style>\n",
              "<table border=\"1\" class=\"dataframe\">\n",
              "  <thead>\n",
              "    <tr style=\"text-align: right;\">\n",
              "      <th></th>\n",
              "      <th>Datetime</th>\n",
              "      <th>Open</th>\n",
              "      <th>High</th>\n",
              "      <th>Low</th>\n",
              "      <th>Close</th>\n",
              "      <th>Volume</th>\n",
              "      <th>Dividends</th>\n",
              "      <th>Stock Splits</th>\n",
              "    </tr>\n",
              "  </thead>\n",
              "  <tbody>\n",
              "    <tr>\n",
              "      <th>0</th>\n",
              "      <td>2021-03-29 17:30:00</td>\n",
              "      <td>292.339996</td>\n",
              "      <td>293.239990</td>\n",
              "      <td>292.010010</td>\n",
              "      <td>292.429993</td>\n",
              "      <td>39001790</td>\n",
              "      <td>0.0</td>\n",
              "      <td>0</td>\n",
              "    </tr>\n",
              "    <tr>\n",
              "      <th>1</th>\n",
              "      <td>2021-03-29 18:30:00</td>\n",
              "      <td>292.429993</td>\n",
              "      <td>293.000000</td>\n",
              "      <td>292.410004</td>\n",
              "      <td>293.000000</td>\n",
              "      <td>1604190</td>\n",
              "      <td>0.0</td>\n",
              "      <td>0</td>\n",
              "    </tr>\n",
              "    <tr>\n",
              "      <th>2</th>\n",
              "      <td>2021-03-30 09:30:00</td>\n",
              "      <td>294.859985</td>\n",
              "      <td>295.720001</td>\n",
              "      <td>292.799988</td>\n",
              "      <td>295.299988</td>\n",
              "      <td>17259820</td>\n",
              "      <td>0.0</td>\n",
              "      <td>0</td>\n",
              "    </tr>\n",
              "    <tr>\n",
              "      <th>3</th>\n",
              "      <td>2021-03-30 10:30:00</td>\n",
              "      <td>295.260010</td>\n",
              "      <td>295.600006</td>\n",
              "      <td>292.559998</td>\n",
              "      <td>293.329987</td>\n",
              "      <td>15307000</td>\n",
              "      <td>0.0</td>\n",
              "      <td>0</td>\n",
              "    </tr>\n",
              "    <tr>\n",
              "      <th>4</th>\n",
              "      <td>2021-03-30 11:30:00</td>\n",
              "      <td>293.239990</td>\n",
              "      <td>293.920013</td>\n",
              "      <td>292.649994</td>\n",
              "      <td>293.059998</td>\n",
              "      <td>6650520</td>\n",
              "      <td>0.0</td>\n",
              "      <td>0</td>\n",
              "    </tr>\n",
              "    <tr>\n",
              "      <th>...</th>\n",
              "      <td>...</td>\n",
              "      <td>...</td>\n",
              "      <td>...</td>\n",
              "      <td>...</td>\n",
              "      <td>...</td>\n",
              "      <td>...</td>\n",
              "      <td>...</td>\n",
              "      <td>...</td>\n",
              "    </tr>\n",
              "    <tr>\n",
              "      <th>2318</th>\n",
              "      <td>2022-03-29 10:30:00</td>\n",
              "      <td>130.300003</td>\n",
              "      <td>134.500000</td>\n",
              "      <td>129.039993</td>\n",
              "      <td>132.649994</td>\n",
              "      <td>22406780</td>\n",
              "      <td>0.0</td>\n",
              "      <td>0</td>\n",
              "    </tr>\n",
              "    <tr>\n",
              "      <th>2319</th>\n",
              "      <td>2022-03-29 11:30:00</td>\n",
              "      <td>132.610001</td>\n",
              "      <td>137.500000</td>\n",
              "      <td>132.529999</td>\n",
              "      <td>133.039993</td>\n",
              "      <td>17603310</td>\n",
              "      <td>0.0</td>\n",
              "      <td>0</td>\n",
              "    </tr>\n",
              "    <tr>\n",
              "      <th>2320</th>\n",
              "      <td>2022-03-29 12:30:00</td>\n",
              "      <td>133.029999</td>\n",
              "      <td>133.089996</td>\n",
              "      <td>125.820000</td>\n",
              "      <td>127.260002</td>\n",
              "      <td>16457440</td>\n",
              "      <td>0.0</td>\n",
              "      <td>0</td>\n",
              "    </tr>\n",
              "    <tr>\n",
              "      <th>2321</th>\n",
              "      <td>2022-03-29 13:30:00</td>\n",
              "      <td>127.139999</td>\n",
              "      <td>130.100006</td>\n",
              "      <td>127.129997</td>\n",
              "      <td>128.770004</td>\n",
              "      <td>1790330</td>\n",
              "      <td>0.0</td>\n",
              "      <td>0</td>\n",
              "    </tr>\n",
              "    <tr>\n",
              "      <th>2322</th>\n",
              "      <td>2022-03-29 13:49:59</td>\n",
              "      <td>128.770004</td>\n",
              "      <td>128.770004</td>\n",
              "      <td>128.770004</td>\n",
              "      <td>128.770004</td>\n",
              "      <td>0</td>\n",
              "      <td>0.0</td>\n",
              "      <td>0</td>\n",
              "    </tr>\n",
              "  </tbody>\n",
              "</table>\n",
              "<p>2323 rows × 8 columns</p>\n",
              "</div>\n",
              "      <button class=\"colab-df-convert\" onclick=\"convertToInteractive('df-143ff736-b1a9-4f54-9c16-4dbadcfa640e')\"\n",
              "              title=\"Convert this dataframe to an interactive table.\"\n",
              "              style=\"display:none;\">\n",
              "        \n",
              "  <svg xmlns=\"http://www.w3.org/2000/svg\" height=\"24px\"viewBox=\"0 0 24 24\"\n",
              "       width=\"24px\">\n",
              "    <path d=\"M0 0h24v24H0V0z\" fill=\"none\"/>\n",
              "    <path d=\"M18.56 5.44l.94 2.06.94-2.06 2.06-.94-2.06-.94-.94-2.06-.94 2.06-2.06.94zm-11 1L8.5 8.5l.94-2.06 2.06-.94-2.06-.94L8.5 2.5l-.94 2.06-2.06.94zm10 10l.94 2.06.94-2.06 2.06-.94-2.06-.94-.94-2.06-.94 2.06-2.06.94z\"/><path d=\"M17.41 7.96l-1.37-1.37c-.4-.4-.92-.59-1.43-.59-.52 0-1.04.2-1.43.59L10.3 9.45l-7.72 7.72c-.78.78-.78 2.05 0 2.83L4 21.41c.39.39.9.59 1.41.59.51 0 1.02-.2 1.41-.59l7.78-7.78 2.81-2.81c.8-.78.8-2.07 0-2.86zM5.41 20L4 18.59l7.72-7.72 1.47 1.35L5.41 20z\"/>\n",
              "  </svg>\n",
              "      </button>\n",
              "      \n",
              "  <style>\n",
              "    .colab-df-container {\n",
              "      display:flex;\n",
              "      flex-wrap:wrap;\n",
              "      gap: 12px;\n",
              "    }\n",
              "\n",
              "    .colab-df-convert {\n",
              "      background-color: #E8F0FE;\n",
              "      border: none;\n",
              "      border-radius: 50%;\n",
              "      cursor: pointer;\n",
              "      display: none;\n",
              "      fill: #1967D2;\n",
              "      height: 32px;\n",
              "      padding: 0 0 0 0;\n",
              "      width: 32px;\n",
              "    }\n",
              "\n",
              "    .colab-df-convert:hover {\n",
              "      background-color: #E2EBFA;\n",
              "      box-shadow: 0px 1px 2px rgba(60, 64, 67, 0.3), 0px 1px 3px 1px rgba(60, 64, 67, 0.15);\n",
              "      fill: #174EA6;\n",
              "    }\n",
              "\n",
              "    [theme=dark] .colab-df-convert {\n",
              "      background-color: #3B4455;\n",
              "      fill: #D2E3FC;\n",
              "    }\n",
              "\n",
              "    [theme=dark] .colab-df-convert:hover {\n",
              "      background-color: #434B5C;\n",
              "      box-shadow: 0px 1px 3px 1px rgba(0, 0, 0, 0.15);\n",
              "      filter: drop-shadow(0px 1px 2px rgba(0, 0, 0, 0.3));\n",
              "      fill: #FFFFFF;\n",
              "    }\n",
              "  </style>\n",
              "\n",
              "      <script>\n",
              "        const buttonEl =\n",
              "          document.querySelector('#df-143ff736-b1a9-4f54-9c16-4dbadcfa640e button.colab-df-convert');\n",
              "        buttonEl.style.display =\n",
              "          google.colab.kernel.accessAllowed ? 'block' : 'none';\n",
              "\n",
              "        async function convertToInteractive(key) {\n",
              "          const element = document.querySelector('#df-143ff736-b1a9-4f54-9c16-4dbadcfa640e');\n",
              "          const dataTable =\n",
              "            await google.colab.kernel.invokeFunction('convertToInteractive',\n",
              "                                                     [key], {});\n",
              "          if (!dataTable) return;\n",
              "\n",
              "          const docLinkHtml = 'Like what you see? Visit the ' +\n",
              "            '<a target=\"_blank\" href=https://colab.research.google.com/notebooks/data_table.ipynb>data table notebook</a>'\n",
              "            + ' to learn more about interactive tables.';\n",
              "          element.innerHTML = '';\n",
              "          dataTable['output_type'] = 'display_data';\n",
              "          await google.colab.output.renderOutput(dataTable, element);\n",
              "          const docLink = document.createElement('div');\n",
              "          docLink.innerHTML = docLinkHtml;\n",
              "          element.appendChild(docLink);\n",
              "        }\n",
              "      </script>\n",
              "    </div>\n",
              "  </div>\n",
              "  "
            ]
          },
          "metadata": {},
          "execution_count": 182
        }
      ]
    },
    {
      "cell_type": "code",
      "source": [
        "new_data['Datetime'] = pd.to_datetime(new_data['Datetime']).dt.tz_localize(None)\n"
      ],
      "metadata": {
        "id": "CyhoXBVZ-QZ0"
      },
      "execution_count": null,
      "outputs": []
    },
    {
      "cell_type": "code",
      "source": [
        "import matplotlib.pyplot as plt\n",
        "tickers = ['SBER.ME']\n",
        "for i,ticker in enumerate(tickers):\n",
        "  current_ticker = yf.Ticker(ticker)\n",
        "  plt.subplot(len(tickers),1,i+1)\n",
        "  current_ticker.history(period='1w', interval='1H')['Close'].plot(figsize=   (16,7), title='1 week price history for ticker: '+ticker)"
      ],
      "metadata": {
        "id": "nmg3QNiOyH7d"
      },
      "execution_count": null,
      "outputs": []
    },
    {
      "cell_type": "code",
      "source": [
        "fig = go.Figure(data=[go.Candlestick(x=new_data['Datetime'],\n",
        "                open=new_data['Open'],\n",
        "                high=new_data['High'],\n",
        "                low=new_data['Low'],\n",
        "                close=new_data['Close'])])\n",
        "fig.show()"
      ],
      "metadata": {
        "id": "xznb5aBA5FTB"
      },
      "execution_count": null,
      "outputs": []
    },
    {
      "cell_type": "code",
      "source": [
        "new_data.head(30)"
      ],
      "metadata": {
        "id": "atIjX53AthWJ"
      },
      "execution_count": null,
      "outputs": []
    }
  ]
}